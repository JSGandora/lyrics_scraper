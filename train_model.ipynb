{
 "cells": [
  {
   "cell_type": "code",
   "execution_count": 250,
   "metadata": {},
   "outputs": [
    {
     "name": "stdout",
     "output_type": "stream",
     "text": [
      "1.12.0\n"
     ]
    }
   ],
   "source": [
    "import tensorflow as tf\n",
    "from tensorflow import keras\n",
    "import numpy as np\n",
    "import matplotlib.pyplot as plt\n",
    "import pandas as pd\n",
    "from sklearn import preprocessing\n",
    "\n",
    "print(tf.__version__)"
   ]
  },
  {
   "cell_type": "code",
   "execution_count": 255,
   "metadata": {},
   "outputs": [],
   "source": [
    "## Import Data\n",
    "GENRES_IDX = {\"blues\":0, \"gospel\":1, \"rap\":2, \"country\":3, \"rock\":4}\n",
    "NON_SPARSE_FEATS = ['n_wrds', 'avg_wrd_len',\n",
    "       'n_lines', 'avg_line_len', 'n_contractions', 'contraction_density',\n",
    "       'vocab_size', 'edge_density',\n",
    "       'edge_density_weighted', 'edge_weight_var', 'degree_var',\n",
    "       'degree_var_weighted', 'degree_avg', 'degree_avg_weighted',\n",
    "       'comp_size_avg']\n",
    "\n",
    "N_NONSPARSE = len(NON_SPARSE_FEATS)\n",
    "\n",
    "def df_to_arr(df):\n",
    "    x = df[NON_SPARSE_FEATS]\n",
    "    x_arr = x.values\n",
    "    y = df[\"topk\"]\n",
    "    y_list = [list(y.values[i]) for i in range(y.values.shape[0])]\n",
    "    y_arr = np.array(y_list)\n",
    "    \n",
    "    kron = np.eye(5)\n",
    "    labels = df[\"genre\"].values\n",
    "    labels = np.array([kron[:, GENRES_IDX[genre]] for genre in labels])\n",
    "    \n",
    "    data = np.concatenate((x_arr, y_arr), axis=1)\n",
    "    return data, labels\n",
    "\n",
    "def read_data(fn):\n",
    "    df = pd.read_pickle(fn)\n",
    "    df.fillna(0, inplace=True)\n",
    "    df_train = df.query(\"data_split == 'train'\").copy()\n",
    "    df_test = df.query(\"data_split == 'test'\").copy()\n",
    "    df_val = df.query(\"data_split == 'val'\").copy()\n",
    "    \n",
    "    X_train, Y_train = df_to_arr(df_train)\n",
    "    X_val, Y_val = df_to_arr(df_val)\n",
    "    X_test, Y_test = df_to_arr(df_test)\n",
    "    \n",
    "    ## Standardize Data\n",
    "    scaler = preprocessing.StandardScaler().fit(X_train[:, :N_NONSPARSE])\n",
    "    X_train[:, :len(NON_SPARSE_FEATS)] = scaler.transform(X_train[:, :N_NONSPARSE])\n",
    "    X_val[:, :len(NON_SPARSE_FEATS)] = scaler.transform(X_val[:, :N_NONSPARSE])\n",
    "    X_test[:, :len(NON_SPARSE_FEATS)] = scaler.transform(X_test[:, :N_NONSPARSE])\n",
    "    \n",
    "    scaler_sparse = preprocessing.MinMaxScaler().fit(X_train[:, N_NONSPARSE:])\n",
    "    X_train[:, len(NON_SPARSE_FEATS):] = scaler_sparse.transform(X_train[:, N_NONSPARSE:])\n",
    "    X_val[:, len(NON_SPARSE_FEATS):] = scaler_sparse.transform(X_val[:, N_NONSPARSE:])\n",
    "    X_test[:, len(NON_SPARSE_FEATS):] = scaler_sparse.transform(X_test[:, N_NONSPARSE:])\n",
    "    \n",
    "    return X_train, Y_train, X_val, Y_val, X_test, Y_test\n",
    "\n",
    "ALL_DATA_FN = \"all.data\"\n",
    "X_train, Y_train, X_val, Y_val, X_test, Y_test = read_data(ALL_DATA_FN)"
   ]
  },
  {
   "cell_type": "code",
   "execution_count": 256,
   "metadata": {},
   "outputs": [
    {
     "name": "stdout",
     "output_type": "stream",
     "text": [
      "Train on 35380 samples, validate on 11851 samples\n",
      "Epoch 1/20\n",
      "35380/35380 [==============================] - 4s 120us/step - loss: 1.1299 - acc: 0.5365 - val_loss: 1.0397 - val_acc: 0.5719\n",
      "Epoch 2/20\n",
      "35380/35380 [==============================] - 3s 95us/step - loss: 1.0016 - acc: 0.5835 - val_loss: 1.0282 - val_acc: 0.5781\n",
      "Epoch 3/20\n",
      "35380/35380 [==============================] - 4s 102us/step - loss: 0.9805 - acc: 0.5885 - val_loss: 1.0288 - val_acc: 0.5717\n",
      "Epoch 4/20\n",
      "35380/35380 [==============================] - 11s 297us/step - loss: 0.9679 - acc: 0.5929 - val_loss: 1.0327 - val_acc: 0.5762\n",
      "11730/11730 [==============================] - 1s 55us/step\n"
     ]
    },
    {
     "data": {
      "text/plain": [
       "[1.008090195312893, 0.5855072463666489]"
      ]
     },
     "execution_count": 256,
     "metadata": {},
     "output_type": "execute_result"
    }
   ],
   "source": [
    "# Train Model\n",
    "model = keras.Sequential([\n",
    "    keras.layers.Dense(200, activation=tf.nn.relu),\n",
    "    keras.layers.Dense(5, activation=tf.nn.softmax)\n",
    "])\n",
    "\n",
    "model.compile(optimizer=tf.train.AdamOptimizer(), \n",
    "              loss='categorical_crossentropy',\n",
    "              metrics=['accuracy'])\n",
    "\n",
    "callbacks = [\n",
    "  # Interrupt training if `val_loss` stops improving for over 2 epochs\n",
    "  tf.keras.callbacks.EarlyStopping(patience=2, monitor='val_loss'),\n",
    "  # Write TensorBoard logs to `./logs` directory\n",
    "  tf.keras.callbacks.TensorBoard(log_dir='./logs')\n",
    "]\n",
    "\n",
    "model_fitted = model.fit(X_train, Y_train, \n",
    "                         epochs=20, \n",
    "                         validation_data = (X_val, Y_val), \n",
    "                         batch_size=32, \n",
    "                         callbacks=callbacks\n",
    "                        )\n",
    "\n",
    "# Evaluate Model\n",
    "model.evaluate(X_test, Y_test, batch_size=32)"
   ]
  },
  {
   "cell_type": "code",
   "execution_count": null,
   "metadata": {},
   "outputs": [],
   "source": []
  },
  {
   "cell_type": "code",
   "execution_count": null,
   "metadata": {},
   "outputs": [],
   "source": []
  },
  {
   "cell_type": "code",
   "execution_count": null,
   "metadata": {},
   "outputs": [],
   "source": []
  },
  {
   "cell_type": "code",
   "execution_count": null,
   "metadata": {},
   "outputs": [],
   "source": []
  }
 ],
 "metadata": {
  "kernelspec": {
   "display_name": "Python 3",
   "language": "python",
   "name": "python3"
  },
  "language_info": {
   "codemirror_mode": {
    "name": "ipython",
    "version": 3
   },
   "file_extension": ".py",
   "mimetype": "text/x-python",
   "name": "python",
   "nbconvert_exporter": "python",
   "pygments_lexer": "ipython3",
   "version": "3.4.8"
  }
 },
 "nbformat": 4,
 "nbformat_minor": 2
}
