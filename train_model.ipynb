{
 "cells": [
  {
   "cell_type": "code",
   "execution_count": 62,
   "metadata": {},
   "outputs": [
    {
     "name": "stdout",
     "output_type": "stream",
     "text": [
      "1.12.0\n"
     ]
    }
   ],
   "source": [
    "import tensorflow as tf\n",
    "from tensorflow import keras\n",
    "import numpy as np\n",
    "import matplotlib.pyplot as plt\n",
    "import pandas as pd\n",
    "from sklearn import preprocessing\n",
    "from sklearn.metrics import confusion_matrix\n",
    "import itertools\n",
    "from sklearn.metrics import f1_score\n",
    "\n",
    "print(tf.__version__)"
   ]
  },
  {
   "cell_type": "code",
   "execution_count": 83,
   "metadata": {},
   "outputs": [],
   "source": [
    "## Import Data\n",
    "GENRES_IDX = {\"blues\":0, \"gospel\":1, \"rap\":2, \"country\":3, \"rock\":4}\n",
    "GENRE_NAMES = [\"blues\", \"gospel\", \"rap\", \"country\", \"rock\"]\n",
    "\n",
    "NON_SPARSE_FEATS = ['n_wrds', 'avg_wrd_len',\n",
    "       'n_lines', 'avg_line_len', 'n_contractions', 'contraction_density',\n",
    "       'vocab_size', 'edge_density',\n",
    "       'edge_density_weighted', 'edge_weight_var', 'degree_var',\n",
    "       'degree_var_weighted', 'degree_avg', 'degree_avg_weighted',\n",
    "       'comp_size_avg']\n",
    "\n",
    "SPARSE_FEATS = ['word2vec_avg', 'topk']\n",
    "\n",
    "NON_SPARSE_FEATS = ['n_wrds', 'avg_wrd_len', \n",
    "                   'n_lines', 'avg_line_len', 'n_contractions', 'contraction_density',\n",
    "                          'vocab_size', 'edge_density',\n",
    "       'edge_density_weighted', 'edge_weight_var', 'degree_var',\n",
    "                    'degree_avg', 'degree_avg_weighted', 'comp_size_avg'\n",
    "                    \n",
    "                   ]\n",
    "# NON_SPARSE_FEATS = []\n",
    "\n",
    "N_NONSPARSE = len(NON_SPARSE_FEATS)\n",
    "\n",
    "def df_to_arr(df):\n",
    "    x = df[NON_SPARSE_FEATS]\n",
    "    x_arr = x.values\n",
    "    \n",
    "    y_arr_list = []\n",
    "    for sparse_feat in SPARSE_FEATS:\n",
    "        y = df[sparse_feat]\n",
    "        y_list = [list(y.values[i]) for i in range(y.values.shape[0])]\n",
    "        y_arr = np.array(y_list)\n",
    "        y_arr_list.append(y_arr)\n",
    "\n",
    "    y_arr = y_arr_list[0]\n",
    "    for i in range(len(y_arr_list) - 1):\n",
    "        y_arr = np.concatenate((y_arr, y_arr_list[i+1]), axis=1)\n",
    "    \n",
    "    # Use one hot encoding labels\n",
    "    kron = np.eye(5)\n",
    "    labels = df[\"genre\"].values\n",
    "    labels_one_hot = np.array([kron[:, GENRES_IDX[genre]] for genre in labels])\n",
    "    \n",
    "    # Use integer labels\n",
    "    labels_sparse = np.array([GENRES_IDX[genre] for genre in labels])\n",
    "    \n",
    "    data = np.concatenate((x_arr, y_arr), axis=1)\n",
    "    return data, labels_sparse\n",
    "\n",
    "def read_data(fn):\n",
    "    df = pd.read_pickle(fn)\n",
    "    df.fillna(0, inplace=True)\n",
    "    df_train = df.query(\"data_split == 'train'\").copy()\n",
    "    df_test = df.query(\"data_split == 'test'\").copy()\n",
    "    df_val = df.query(\"data_split == 'val'\").copy()\n",
    "    \n",
    "    X_train, Y_train = df_to_arr(df_train)\n",
    "    X_val, Y_val = df_to_arr(df_val)\n",
    "    X_test, Y_test = df_to_arr(df_test)\n",
    "    \n",
    "#     ## Standardize Data\n",
    "#     scaler = preprocessing.StandardScaler().fit(X_train[:, :N_NONSPARSE])\n",
    "#     X_train[:, :len(NON_SPARSE_FEATS)] = scaler.transform(X_train[:, :N_NONSPARSE])\n",
    "#     X_val[:, :len(NON_SPARSE_FEATS)] = scaler.transform(X_val[:, :N_NONSPARSE])\n",
    "#     X_test[:, :len(NON_SPARSE_FEATS)] = scaler.transform(X_test[:, :N_NONSPARSE])\n",
    "    \n",
    "#     scaler_sparse = preprocessing.MinMaxScaler().fit(X_train[:, N_NONSPARSE:])\n",
    "#     X_train[:, len(NON_SPARSE_FEATS):] = scaler_sparse.transform(X_train[:, N_NONSPARSE:])\n",
    "#     X_val[:, len(NON_SPARSE_FEATS):] = scaler_sparse.transform(X_val[:, N_NONSPARSE:])\n",
    "#     X_test[:, len(NON_SPARSE_FEATS):] = scaler_sparse.transform(X_test[:, N_NONSPARSE:])\n",
    "    \n",
    "    return X_train, Y_train, X_val, Y_val, X_test, Y_test\n",
    "\n",
    "ALL_DATA_FN = \"all.data\"\n",
    "X_train, Y_train, X_val, Y_val, X_test, Y_test = read_data(ALL_DATA_FN)"
   ]
  },
  {
   "cell_type": "code",
   "execution_count": 84,
   "metadata": {},
   "outputs": [],
   "source": [
    "# Shuffle X_train and Y_train\n",
    "\n",
    "N = X_train.shape[0]\n",
    "idx = np.array([i for i in range(N)])\n",
    "np.random.shuffle(idx)\n",
    "X_train = X_train[idx]\n",
    "Y_train = Y_train[idx]"
   ]
  },
  {
   "cell_type": "code",
   "execution_count": 85,
   "metadata": {},
   "outputs": [
    {
     "name": "stdout",
     "output_type": "stream",
     "text": [
      "(35380, 8001)\n"
     ]
    },
    {
     "data": {
      "text/plain": [
       "13"
      ]
     },
     "execution_count": 85,
     "metadata": {},
     "output_type": "execute_result"
    }
   ],
   "source": [
    "print(X_train.shape)\n",
    "N_NONSPARSE"
   ]
  },
  {
   "cell_type": "code",
   "execution_count": 86,
   "metadata": {
    "scrolled": true
   },
   "outputs": [
    {
     "name": "stdout",
     "output_type": "stream",
     "text": [
      "Train on 35380 samples, validate on 11851 samples\n",
      "Epoch 1/100\n",
      "35380/35380 [==============================] - 12s 346us/step - loss: 1.1467 - acc: 0.5741 - val_loss: 0.8971 - val_acc: 0.6540\n",
      "Epoch 2/100\n",
      "35380/35380 [==============================] - 11s 307us/step - loss: 0.8918 - acc: 0.6653 - val_loss: 0.8130 - val_acc: 0.6961\n",
      "Epoch 3/100\n",
      "35380/35380 [==============================] - 12s 345us/step - loss: 0.8160 - acc: 0.6942 - val_loss: 0.8070 - val_acc: 0.6941\n",
      "Epoch 4/100\n",
      "35380/35380 [==============================] - 11s 304us/step - loss: 0.7604 - acc: 0.7148 - val_loss: 1.0690 - val_acc: 0.5847\n",
      "Epoch 5/100\n",
      "35380/35380 [==============================] - 12s 340us/step - loss: 0.7223 - acc: 0.7336 - val_loss: 0.8222 - val_acc: 0.6985\n",
      "11730/11730 [==============================] - 2s 138us/step\n"
     ]
    },
    {
     "data": {
      "text/plain": [
       "[0.8182419971633585, 0.7007672634067844]"
      ]
     },
     "execution_count": 86,
     "metadata": {},
     "output_type": "execute_result"
    }
   ],
   "source": [
    "# Train Model\n",
    "model = keras.Sequential([\n",
    "    keras.layers.Dense(200, activation=tf.nn.relu),\n",
    "    keras.layers.Dense(5, activation=tf.nn.softmax)\n",
    "])\n",
    "\n",
    "model.compile(optimizer=tf.train.AdamOptimizer(), \n",
    "              loss='sparse_categorical_crossentropy',\n",
    "              metrics=['accuracy'])\n",
    "\n",
    "callbacks = [\n",
    "  # Interrupt training if `val_loss` stops improving for over 2 epochs\n",
    "  tf.keras.callbacks.EarlyStopping(patience=2, monitor='val_loss'),\n",
    "  # Write TensorBoard logs to `./logs` directory\n",
    "  tf.keras.callbacks.TensorBoard(log_dir='./logs')\n",
    "]\n",
    "\n",
    "# SHUFFLE THE DATA\n",
    "model_fitted = model.fit(X_train, Y_train, \n",
    "                         epochs=100, \n",
    "                         validation_data = (X_val, Y_val), \n",
    "                         batch_size=32, \n",
    "                         callbacks=callbacks\n",
    "                        )\n",
    "\n",
    "# Evaluate Model\n",
    "model.evaluate(X_test, Y_test, batch_size=32)"
   ]
  },
  {
   "cell_type": "code",
   "execution_count": 5,
   "metadata": {},
   "outputs": [],
   "source": [
    "X = X_val\n",
    "Y = Y_val\n",
    "\n",
    "Y_hat = model.predict(X)\n",
    "Y_pred = np.argmax(Y_hat, axis=1)"
   ]
  },
  {
   "cell_type": "code",
   "execution_count": 34,
   "metadata": {},
   "outputs": [
    {
     "data": {
      "image/png": "[encoded data removed]",
      "text/plain": [
       "<Figure size 720x360 with 1 Axes>"
      ]
     },
     "metadata": {
      "needs_background": "light"
     },
     "output_type": "display_data"
    }
   ],
   "source": [
    "def plot_value_array(i, predictions_array, true_label):\n",
    "    predictions_array, true_label = predictions_array[i], true_label[i]\n",
    "    plt.grid(False)\n",
    "    plt.xticks([])\n",
    "    plt.yticks([])\n",
    "    thisplot = plt.bar(range(5), predictions_array, color=\"#777777\")\n",
    "    plt.ylim([0, 1]) \n",
    "    predicted_label = np.argmax(predictions_array)\n",
    "\n",
    "    thisplot[predicted_label].set_color('red')\n",
    "    thisplot[true_label].set_color('blue')\n",
    "    \n",
    "i = 4\n",
    "plt.figure(figsize=(10,5))\n",
    "plt.subplot(1,2,1)\n",
    "plot_value_array(i, Y_hat,  Y)\n",
    "_ = plt.xticks(range(5), GENRE_NAMES, rotation=45)"
   ]
  },
  {
   "cell_type": "code",
   "execution_count": 35,
   "metadata": {},
   "outputs": [
    {
     "name": "stdout",
     "output_type": "stream",
     "text": [
      "Confusion matrix, without normalization\n",
      "[[ 768   32    7  317  346]\n",
      " [  37 1254   62  310  159]\n",
      " [  23   18 2044   42   60]\n",
      " [ 182  184   22 2465  409]\n",
      " [ 283  158   67  777 1825]]\n",
      "Normalized confusion matrix\n",
      "[[0.52 0.02 0.   0.22 0.24]\n",
      " [0.02 0.69 0.03 0.17 0.09]\n",
      " [0.01 0.01 0.93 0.02 0.03]\n",
      " [0.06 0.06 0.01 0.76 0.13]\n",
      " [0.09 0.05 0.02 0.25 0.59]]\n"
     ]
    },
    {
     "data": {
      "image/png": "[encoded data removed]",
      "text/plain": [
       "<Figure size 432x288 with 2 Axes>"
      ]
     },
     "metadata": {
      "needs_background": "light"
     },
     "output_type": "display_data"
    },
    {
     "data": {
      "image/png": "[encoded data removed]",
      "text/plain": [
       "<Figure size 432x288 with 2 Axes>"
      ]
     },
     "metadata": {
      "needs_background": "light"
     },
     "output_type": "display_data"
    }
   ],
   "source": [
    "## Adapted from https://scikit-learn.org/stable/auto_examples/model_selection/plot_confusion_matrix.html#sphx-glr-auto-examples-model-selection-plot-confusion-matrix-py\n",
    "\n",
    "def plot_confusion_matrix(cm, classes,\n",
    "                          normalize=False,\n",
    "                          title='Confusion matrix',\n",
    "                          cmap=plt.cm.Blues):\n",
    "    \"\"\"\n",
    "    This function prints and plots the confusion matrix.\n",
    "    Normalization can be applied by setting `normalize=True`.\n",
    "    \"\"\"\n",
    "    if normalize:\n",
    "        cm = cm.astype('float') / cm.sum(axis=1)[:, np.newaxis]\n",
    "        print(\"Normalized confusion matrix\")\n",
    "    else:\n",
    "        print('Confusion matrix, without normalization')\n",
    "\n",
    "    print(cm)\n",
    "\n",
    "    plt.imshow(cm, interpolation='nearest', cmap=cmap)\n",
    "    plt.title(title)\n",
    "    plt.colorbar()\n",
    "    tick_marks = np.arange(len(classes))\n",
    "    plt.xticks(tick_marks, classes, rotation=45)\n",
    "    plt.yticks(tick_marks, classes)\n",
    "\n",
    "    fmt = '.2f' if normalize else 'd'\n",
    "    thresh = cm.max() / 2.\n",
    "    for i, j in itertools.product(range(cm.shape[0]), range(cm.shape[1])):\n",
    "        plt.text(j, i, format(cm[i, j], fmt),\n",
    "                 horizontalalignment=\"center\",\n",
    "                 color=\"white\" if cm[i, j] > thresh else \"black\")\n",
    "\n",
    "    plt.ylabel('True label')\n",
    "    plt.xlabel('Predicted label')\n",
    "    plt.tight_layout()\n",
    "\n",
    "\n",
    "# Compute confusion matrix\n",
    "cnf_matrix = confusion_matrix(Y, Y_pred)\n",
    "np.set_printoptions(precision=2)\n",
    "\n",
    "# Plot non-normalized confusion matrix\n",
    "plt.figure()\n",
    "plot_confusion_matrix(cnf_matrix, classes=GENRE_NAMES,\n",
    "                      title='Confusion matrix, without normalization')\n",
    "\n",
    "# Plot normalized confusion matrix\n",
    "plt.figure()\n",
    "plot_confusion_matrix(cnf_matrix, classes=GENRE_NAMES, normalize=True,\n",
    "                      title='Normalized confusion matrix')\n",
    "\n",
    "plt.show()"
   ]
  },
  {
   "cell_type": "code",
   "execution_count": 48,
   "metadata": {},
   "outputs": [
    {
     "name": "stdout",
     "output_type": "stream",
     "text": [
      "['blues', 'gospel', 'rap', 'country', 'rock']\n"
     ]
    },
    {
     "data": {
      "text/plain": [
       "array([0.56, 0.72, 0.93, 0.69, 0.62])"
      ]
     },
     "execution_count": 48,
     "metadata": {},
     "output_type": "execute_result"
    }
   ],
   "source": [
    "print(GENRE_NAMES)\n",
    "f1_score(Y, Y_pred, average=None)\n"
   ]
  },
  {
   "cell_type": "code",
   "execution_count": 42,
   "metadata": {},
   "outputs": [
    {
     "data": {
      "text/plain": [
       "array([0, 0, 0, ..., 4, 4, 4])"
      ]
     },
     "execution_count": 42,
     "metadata": {},
     "output_type": "execute_result"
    }
   ],
   "source": []
  },
  {
   "cell_type": "code",
   "execution_count": null,
   "metadata": {},
   "outputs": [],
   "source": []
  }
 ],
 "metadata": {
  "kernelspec": {
   "display_name": "Python 3",
   "language": "python",
   "name": "python3"
  },
  "language_info": {
   "codemirror_mode": {
    "name": "ipython",
    "version": 3
   },
   "file_extension": ".py",
   "mimetype": "text/x-python",
   "name": "python",
   "nbconvert_exporter": "python",
   "pygments_lexer": "ipython3",
   "version": "3.4.8"
  }
 },
 "nbformat": 4,
 "nbformat_minor": 2
}
