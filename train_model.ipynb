{
 "cells": [
  {
   "cell_type": "code",
   "execution_count": 88,
   "metadata": {},
   "outputs": [
    {
     "name": "stdout",
     "output_type": "stream",
     "text": [
      "1.12.0\n"
     ]
    }
   ],
   "source": [
    "import tensorflow as tf\n",
    "from tensorflow import keras\n",
    "import numpy as np\n",
    "import matplotlib.pyplot as plt\n",
    "import pandas as pd\n",
    "from sklearn import preprocessing\n",
    "from sklearn.metrics import confusion_matrix\n",
    "import itertools\n",
    "from sklearn.metrics import f1_score\n",
    "from scipy import sparse\n",
    "import pickle\n",
    "\n",
    "print(tf.__version__)"
   ]
  },
  {
   "cell_type": "code",
   "execution_count": 100,
   "metadata": {},
   "outputs": [],
   "source": [
    "## Import Data\n",
    "GENRES_IDX = {\"blues\":0, \"gospel\":1, \"rap\":2, \"country\":3, \"rock\":4}\n",
    "GENRE_NAMES = [\"blues\", \"gospel\", \"rap\", \"country\", \"rock\"]\n",
    "\n",
    "NON_SPARSE_FEATS = ['n_wrds', 'avg_wrd_len',\n",
    "       'n_lines', 'avg_line_len', 'n_contractions', 'contraction_density',\n",
    "       'vocab_size', 'edge_density',\n",
    "       'edge_density_weighted', 'edge_weight_var', 'degree_var',\n",
    "       'degree_var_weighted', 'degree_avg', 'degree_avg_weighted',\n",
    "       'comp_size_avg', 'lz_comp_ratio']\n",
    "\n",
    "SPARSE_FEATS = ['word2vec_avg', 'topk']\n",
    "\n",
    "SPARSE_FEATS = ['topk']\n",
    "NON_SPARSE_FEATS = ['n_wrds', 'avg_wrd_len',\n",
    "       'n_lines', 'avg_line_len', 'n_contractions', 'contraction_density',\n",
    "       'vocab_size']\n",
    "\n",
    "\n",
    "N_NONSPARSE = len(NON_SPARSE_FEATS)\n",
    "N_SPARSE = len(SPARSE_FEATS)\n",
    "\n",
    "def df_to_arr(df):\n",
    "    x = df[NON_SPARSE_FEATS]\n",
    "    x_arr = x.values\n",
    "    \n",
    "    if N_SPARSE > 0:\n",
    "        y_arr_list = []\n",
    "        for sparse_feat in SPARSE_FEATS:\n",
    "            y = df[sparse_feat]\n",
    "            y_list = [list(y.values[i]) for i in range(y.values.shape[0])]\n",
    "            y_arr = np.array(y_list)\n",
    "            y_arr_list.append(y_arr)\n",
    "\n",
    "        y_arr = y_arr_list[0]\n",
    "        for i in range(len(y_arr_list) - 1):\n",
    "            y_arr = np.concatenate((y_arr, y_arr_list[i+1]), axis=1)\n",
    "    \n",
    "    # Use one hot encoding labels\n",
    "    kron = np.eye(5)\n",
    "    labels = df[\"genre\"].values\n",
    "    labels_one_hot = np.array([kron[:, GENRES_IDX[genre]] for genre in labels])\n",
    "    \n",
    "    # Use integer labels\n",
    "    labels_sparse = np.array([GENRES_IDX[genre] for genre in labels])\n",
    "    \n",
    "    if N_SPARSE > 0:\n",
    "        data = np.concatenate((x_arr, y_arr), axis=1)\n",
    "    else:\n",
    "        data = x_arr\n",
    "    return data, labels_sparse\n",
    "\n",
    "def read_data(fn):\n",
    "    df = pd.read_pickle(fn)\n",
    "    df.fillna(0, inplace=True)\n",
    "    df_train = df.query(\"data_split == 'train'\").copy()\n",
    "    df_test = df.query(\"data_split == 'test'\").copy()\n",
    "    df_val = df.query(\"data_split == 'val'\").copy()\n",
    "\n",
    "    lyrics_train = np.array(df_train[\"lyrics_stripped\"].values)\n",
    "    lyrics_test = np.array(df_test[\"lyrics_stripped\"].values)\n",
    "    lyrics_val = np.array(df_val[\"lyrics_stripped\"].values)\n",
    "\n",
    "    X_train, Y_train = df_to_arr(df_train)\n",
    "    X_val, Y_val = df_to_arr(df_val)\n",
    "    X_test, Y_test = df_to_arr(df_test)\n",
    "        \n",
    "    if N_NONSPARSE > 0:\n",
    "        ## Standardize Data\n",
    "        scaler = preprocessing.StandardScaler().fit(X_train[:, :N_NONSPARSE])\n",
    "        X_train[:, :len(NON_SPARSE_FEATS)] = scaler.transform(X_train[:, :N_NONSPARSE])\n",
    "        X_val[:, :len(NON_SPARSE_FEATS)] = scaler.transform(X_val[:, :N_NONSPARSE])\n",
    "        X_test[:, :len(NON_SPARSE_FEATS)] = scaler.transform(X_test[:, :N_NONSPARSE])\n",
    "    if N_SPARSE > 0:\n",
    "        scaler_sparse = preprocessing.MinMaxScaler().fit(X_train[:, N_NONSPARSE:])\n",
    "        X_train[:, len(NON_SPARSE_FEATS):] = scaler_sparse.transform(X_train[:, N_NONSPARSE:])\n",
    "        X_val[:, len(NON_SPARSE_FEATS):] = scaler_sparse.transform(X_val[:, N_NONSPARSE:])\n",
    "        X_test[:, len(NON_SPARSE_FEATS):] = scaler_sparse.transform(X_test[:, N_NONSPARSE:])\n",
    "    \n",
    "    return X_train, Y_train, X_val, Y_val, X_test, Y_test, lyrics_train, lyrics_val, lyrics_test\n",
    "\n",
    "ALL_DATA_FN = \"all.data\"\n",
    "X_train, Y_train, X_val, Y_val, X_test, Y_test,  lyrics_train, lyrics_val, lyrics_test = read_data(ALL_DATA_FN)\n",
    "DIM = X_train.shape[1]"
   ]
  },
  {
   "cell_type": "code",
   "execution_count": 111,
   "metadata": {},
   "outputs": [
    {
     "name": "stdout",
     "output_type": "stream",
     "text": [
      "(35380, 7912)\n"
     ]
    }
   ],
   "source": [
    "# Shuffle X_train and Y_train\n",
    "\n",
    "N = X_train.shape[0]\n",
    "idx = np.array([i for i in range(N)])\n",
    "np.random.shuffle(idx)\n",
    "X_train = X_train[idx]\n",
    "Y_train = Y_train[idx]"
   ]
  },
  {
   "cell_type": "code",
   "execution_count": 102,
   "metadata": {
    "scrolled": false
   },
   "outputs": [
    {
     "name": "stdout",
     "output_type": "stream",
     "text": [
      "Train on 35380 samples, validate on 11851 samples\n",
      "Epoch 1/100\n",
      "35380/35380 [==============================] - 9s 264us/step - loss: 0.8307 - acc: 0.6803 - val_loss: 0.7356 - val_acc: 0.7156\n",
      "Epoch 2/100\n",
      "35380/35380 [==============================] - 9s 268us/step - loss: 0.5547 - acc: 0.7892 - val_loss: 0.7727 - val_acc: 0.7099\n",
      "Epoch 3/100\n",
      "35380/35380 [==============================] - 9s 267us/step - loss: 0.4333 - acc: 0.8358 - val_loss: 0.8455 - val_acc: 0.7053\n",
      "11730/11730 [==============================] - 2s 133us/step\n"
     ]
    },
    {
     "data": {
      "text/plain": [
       "[0.8389582218524491, 0.7058823529005254]"
      ]
     },
     "execution_count": 102,
     "metadata": {},
     "output_type": "execute_result"
    }
   ],
   "source": [
    "# Calculate the gradients of each output node w.r.t. each input feature\n",
    "\n",
    "inputs = tf.keras.Input(shape=(DIM,))  # Returns a placeholder tensor\n",
    "\n",
    "# A layer instance is callable on a tensor, and returns a tensor.\n",
    "x = keras.layers.Dense(200, activation=tf.nn.relu)(inputs)\n",
    "# x = inputs # For single layer neural network\n",
    "\n",
    "predictions = keras.layers.Dense(5, activation=tf.nn.softmax)(x)\n",
    "model = tf.keras.Model(inputs=inputs, outputs=predictions)\n",
    "model.compile(optimizer=tf.train.AdamOptimizer(), \n",
    "              loss='sparse_categorical_crossentropy',\n",
    "              metrics=['accuracy'])\n",
    "\n",
    "callbacks = [\n",
    "  # Interrupt training if `val_loss` stops improving for over 2 epochs\n",
    "  tf.keras.callbacks.EarlyStopping(patience=2, monitor='val_loss'),\n",
    "  # Write TensorBoard logs to `./logs` directory\n",
    "  tf.keras.callbacks.TensorBoard(log_dir='./logs')\n",
    "]\n",
    "\n",
    "model.fit(X_train, Y_train,\n",
    "          epochs=100,\n",
    "          validation_data = (X_val, Y_val), \n",
    "          batch_size=32,\n",
    "          callbacks=callbacks\n",
    "         )\n",
    "\n",
    "# Evaluate Model\n",
    "model.evaluate(X_test, Y_test, batch_size=32)"
   ]
  },
  {
   "cell_type": "code",
   "execution_count": 103,
   "metadata": {},
   "outputs": [],
   "source": [
    "def save_weights():\n",
    "    df = pd.DataFrame(model.get_weights()[0])\n",
    "    df.loc[\"bias\", :] = model.get_weights()[1]\n",
    "\n",
    "    with open('topk_vocab', 'rb') as fp:\n",
    "        vocab = pickle.load(fp)\n",
    "\n",
    "    feats = NON_SPARSE_FEATS + [\"dim\" + str(i) for i in range(100)] + vocab + [\"bias\"]\n",
    "    df[\"feats\"] = feats\n",
    "    print(df)\n",
    "    df.to_csv(\"weights.csv\")\n",
    "\n",
    "SAVE_WEIGHTS = False\n",
    "if SAVE_WEIGHTS:\n",
    "    save_weights()"
   ]
  },
  {
   "cell_type": "code",
   "execution_count": 104,
   "metadata": {},
   "outputs": [],
   "source": [
    "X = X_test\n",
    "Y = Y_test\n",
    "lyrics = lyrics_test\n",
    "\n",
    "Y_hat = model.predict(X)\n",
    "Y_pred = np.argmax(Y_hat, axis=1)"
   ]
  },
  {
   "cell_type": "code",
   "execution_count": 105,
   "metadata": {},
   "outputs": [
    {
     "data": {
      "image/png": "[encoded data removed]",
      "text/plain": [
       "<Figure size 720x360 with 1 Axes>"
      ]
     },
     "metadata": {
      "needs_background": "light"
     },
     "output_type": "display_data"
    }
   ],
   "source": [
    "def plot_value_array(i, predictions_array, true_label):\n",
    "    predictions_array, true_label = predictions_array[i], true_label[i]\n",
    "    plt.grid(False)\n",
    "    plt.xticks([])\n",
    "    plt.yticks([])\n",
    "    thisplot = plt.bar(range(5), predictions_array, color=\"#777777\")\n",
    "    plt.ylim([0, 1]) \n",
    "    predicted_label = np.argmax(predictions_array)\n",
    "\n",
    "    thisplot[predicted_label].set_color('red')\n",
    "    thisplot[true_label].set_color('blue')\n",
    "    \n",
    "i = 500\n",
    "plt.figure(figsize=(10,5))\n",
    "plt.subplot(1,2,1)\n",
    "plot_value_array(i, Y_hat,  Y)\n",
    "_ = plt.xticks(range(5), GENRE_NAMES, rotation=45)"
   ]
  },
  {
   "cell_type": "code",
   "execution_count": 106,
   "metadata": {},
   "outputs": [
    {
     "name": "stdout",
     "output_type": "stream",
     "text": [
      "Confusion matrix, without normalization\n",
      "[[ 767   35   11  195  379]\n",
      " [  42 1224   50  238  228]\n",
      " [  17   33 1995   21   92]\n",
      " [ 244  185   29 2144  646]\n",
      " [ 299  152   65  489 2150]]\n",
      "Normalized confusion matrix\n",
      "[[0.55 0.03 0.01 0.14 0.27]\n",
      " [0.02 0.69 0.03 0.13 0.13]\n",
      " [0.01 0.02 0.92 0.01 0.04]\n",
      " [0.08 0.06 0.01 0.66 0.2 ]\n",
      " [0.09 0.05 0.02 0.15 0.68]]\n"
     ]
    },
    {
     "data": {
      "image/png": "[encoded data removed]",
      "text/plain": [
       "<Figure size 432x288 with 2 Axes>"
      ]
     },
     "metadata": {
      "needs_background": "light"
     },
     "output_type": "display_data"
    },
    {
     "data": {
      "image/png": "[encoded data removed]",
      "text/plain": [
       "<Figure size 432x288 with 2 Axes>"
      ]
     },
     "metadata": {
      "needs_background": "light"
     },
     "output_type": "display_data"
    },
    {
     "name": "stdout",
     "output_type": "stream",
     "text": [
      "F1 Scores:\n",
      "['blues', 'gospel', 'rap', 'country', 'rock']\n"
     ]
    },
    {
     "data": {
      "text/plain": [
       "array([0.56, 0.72, 0.93, 0.68, 0.65])"
      ]
     },
     "execution_count": 106,
     "metadata": {},
     "output_type": "execute_result"
    }
   ],
   "source": [
    "### DISPLAY PERFORMANCE STATISTICS\n",
    "\n",
    "## Adapted from https://scikit-learn.org/stable/auto_examples/model_selection/plot_confusion_matrix.html#sphx-glr-auto-examples-model-selection-plot-confusion-matrix-py\n",
    "def plot_confusion_matrix(cm, classes,\n",
    "                          normalize=False,\n",
    "                          title='Confusion matrix',\n",
    "                          cmap=plt.cm.Blues):\n",
    "    \"\"\"\n",
    "    This function prints and plots the confusion matrix.\n",
    "    Normalization can be applied by setting `normalize=True`.\n",
    "    \"\"\"\n",
    "    if normalize:\n",
    "        cm = cm.astype('float') / cm.sum(axis=1)[:, np.newaxis]\n",
    "        print(\"Normalized confusion matrix\")\n",
    "    else:\n",
    "        print('Confusion matrix, without normalization')\n",
    "\n",
    "    print(cm)\n",
    "\n",
    "    plt.imshow(cm, interpolation='nearest', cmap=cmap)\n",
    "    plt.title(title)\n",
    "    plt.colorbar()\n",
    "    tick_marks = np.arange(len(classes))\n",
    "    plt.xticks(tick_marks, classes, rotation=45)\n",
    "    plt.yticks(tick_marks, classes)\n",
    "\n",
    "    fmt = '.2f' if normalize else 'd'\n",
    "    thresh = cm.max() / 2.\n",
    "    for i, j in itertools.product(range(cm.shape[0]), range(cm.shape[1])):\n",
    "        plt.text(j, i, format(cm[i, j], fmt),\n",
    "                 horizontalalignment=\"center\",\n",
    "                 color=\"white\" if cm[i, j] > thresh else \"black\")\n",
    "\n",
    "    plt.ylabel('True label')\n",
    "    plt.xlabel('Predicted label')\n",
    "    plt.tight_layout()\n",
    "\n",
    "\n",
    "# Compute confusion matrix\n",
    "cnf_matrix = confusion_matrix(Y, Y_pred)\n",
    "np.set_printoptions(precision=2)\n",
    "\n",
    "# Plot non-normalized confusion matrix\n",
    "plt.figure()\n",
    "plot_confusion_matrix(cnf_matrix, classes=GENRE_NAMES,\n",
    "                      title='Confusion matrix, without normalization')\n",
    "\n",
    "# Plot normalized confusion matrix\n",
    "plt.figure()\n",
    "plot_confusion_matrix(cnf_matrix, classes=GENRE_NAMES, normalize=True,\n",
    "                      title='Normalized confusion matrix')\n",
    "\n",
    "plt.show()\n",
    "\n",
    "# Print F1 Scores\n",
    "print(\"F1 Scores:\")\n",
    "print(GENRE_NAMES)\n",
    "f1_score(Y, Y_pred, average=None)\n"
   ]
  },
  {
   "cell_type": "code",
   "execution_count": 107,
   "metadata": {},
   "outputs": [],
   "source": [
    "# Calculate Gradients\n",
    "def calculate_gradients():\n",
    "    output_tens = predictions\n",
    "    input_tens = inputs\n",
    "\n",
    "    grad = [tf.gradients(output_tens[i], input_tens) for i in range(output_tens.shape[1])]\n",
    "\n",
    "    sess = tf.keras.backend.get_session()\n",
    "    grad_val = np.squeeze(np.array(sess.run(grad, feed_dict={input_tens: X})))\n",
    "    return grad_val\n",
    "\n",
    "CALCULATE_GRADS = False\n",
    "if CALCULATE_GRADS:\n",
    "    grad_val = calculate_gradients()"
   ]
  },
  {
   "cell_type": "code",
   "execution_count": 108,
   "metadata": {},
   "outputs": [],
   "source": [
    "def get_activations(label_true, label_pred):\n",
    "    pred_idx = set(np.squeeze(np.argwhere(Y_pred == GENRES_IDX[label_pred])))\n",
    "    true_idx = set(np.squeeze(np.argwhere(Y == GENRES_IDX[label_true])))\n",
    "    target_idx = pred_idx.intersection(true_idx)\n",
    "    return target_idx, np.average(grad_val[:, list(target_idx), :], axis=1)\n",
    "\n",
    "def get_lyrics(label_true, label_pred):\n",
    "    pred_idx = set(np.squeeze(np.argwhere(Y_pred == GENRES_IDX[label_pred])))\n",
    "    true_idx = set(np.squeeze(np.argwhere(Y == GENRES_IDX[label_true])))\n",
    "    target_idx = list(pred_idx.intersection(true_idx))\n",
    "    return lyrics[target_idx]\n",
    "\n",
    "EXAMINE_ACTIVATIONS = False\n",
    "if EXAMINE_ACTIVATIONS:\n",
    "    label_true = \"rock\"\n",
    "    label_pred = \"blues\"\n",
    "    for label_true in GENRE_NAMES:\n",
    "        for label_pred in GENRE_NAMES:\n",
    "            print(\"True label: \"+ label_true)\n",
    "            print(\"Predicted label: \"+ label_pred)\n",
    "            target_idx, activations = get_activations(label_true, label_pred)\n",
    "            print(sparse.csr_matrix(activations))\n",
    "\n",
    "EXAMINE_LYRICS = False\n",
    "if EXAMINE_LYRICS:\n",
    "    label_true = \"blues\"\n",
    "    label_pred = \"rock\"\n",
    "    lyrics_target = get_lyrics(label_true, label_pred)\n",
    "    print(len(lyrics_target))\n",
    "    print(lyrics_target[0])\n",
    "\n"
   ]
  },
  {
   "cell_type": "code",
   "execution_count": 109,
   "metadata": {},
   "outputs": [],
   "source": [
    "def get_derivative(x, eps = 1e-10):\n",
    "    y = model.predict(x)\n",
    "    h = 10\n",
    "    dy_old = np.array([0]*5)\n",
    "    dy_new = np.array([100]*5)\n",
    "    while(max(abs(dy_old - dy_new)) > eps):\n",
    "        dx = np.zeros_like(x)\n",
    "        dx[0] = h\n",
    "        x2 = x + dx\n",
    "        y2 = model.predict(np.array(x2))\n",
    "        dy_new = (y[0] - y2[0])/h\n",
    "        h = h/2\n",
    "#         print(dy_new)\n",
    "    return dy_new\n",
    "\n",
    "CALCULATE_DERIVATIVES = False\n",
    "if CALCULATE_DERIVATIVES:\n",
    "    for i in range(X.shape[1]):\n",
    "        eps = 1e-10\n",
    "        x = np.array([X[i]])\n",
    "        dy = get_derivative(x)\n",
    "        if(max(abs(dy)) > eps):\n",
    "            print(dy)"
   ]
  },
  {
   "cell_type": "code",
   "execution_count": null,
   "metadata": {},
   "outputs": [],
   "source": []
  },
  {
   "cell_type": "code",
   "execution_count": null,
   "metadata": {},
   "outputs": [],
   "source": []
  }
 ],
 "metadata": {
  "kernelspec": {
   "display_name": "Python 3",
   "language": "python",
   "name": "python3"
  },
  "language_info": {
   "codemirror_mode": {
    "name": "ipython",
    "version": 3
   },
   "file_extension": ".py",
   "mimetype": "text/x-python",
   "name": "python",
   "nbconvert_exporter": "python",
   "pygments_lexer": "ipython3",
   "version": "3.4.8"
  }
 },
 "nbformat": 4,
 "nbformat_minor": 2
}
