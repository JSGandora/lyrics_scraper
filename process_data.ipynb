{
 "cells": [
  {
   "cell_type": "code",
   "execution_count": 1,
   "metadata": {},
   "outputs": [],
   "source": [
    "from os.path import join\n",
    "from os import listdir\n",
    "import pandas as pd\n",
    "import numpy as np\n",
    "import json\n",
    "\n",
    "if False:\n",
    "    # Read data\n",
    "    GENRES = [\"blues\", \"gospel\", \"rap\", \"country\", \"rock\"]\n",
    "    DATA_DIR = \"/n/fs/guoweis-18iw/get_data/lyrics\"\n",
    "\n",
    "    df = pd.DataFrame(np.nan, index=[], columns=['artist', 'title', 'album', 'year', 'lyrics', 'genre'])\n",
    "\n",
    "    ct = 0\n",
    "    for genre in GENRES:\n",
    "        genre_dir = join(DATA_DIR, genre)\n",
    "        fns = listdir(genre_dir)\n",
    "        for i, fn in enumerate(fns):\n",
    "            if i % 10 == 0:\n",
    "                print(\"Done with \" + str(i) + \" of \" + str(len(fns)) + \" files.\")\n",
    "            fp = join(genre_dir, fn)\n",
    "            data_str = open(fp).read()\n",
    "            data = json.loads(data_str)\n",
    "            songs_data = data[\"songs\"]\n",
    "            for j, song in enumerate(songs_data):\n",
    "                df.loc[ct, \"genre\"] = genre\n",
    "                for key in song.keys():\n",
    "                    if key == \"raw\" or key == \"image\":\n",
    "                        continue\n",
    "                    df.loc[ct, key] = song[key]\n",
    "                ct += 1\n",
    "        df.to_pickle(genre + \".data\")\n"
   ]
  },
  {
   "cell_type": "code",
   "execution_count": null,
   "metadata": {},
   "outputs": [],
   "source": [
    "# Read Data\n",
    "ALL_DATA_FN = \"all.data\"\n",
    "df = pd.read_pickle(ALL_DATA_FN)"
   ]
  },
  {
   "cell_type": "code",
   "execution_count": null,
   "metadata": {},
   "outputs": [],
   "source": [
    "print((df.loc[:,\"genre\"])"
   ]
  },
  {
   "cell_type": "code",
   "execution_count": null,
   "metadata": {},
   "outputs": [],
   "source": []
  }
 ],
 "metadata": {
  "kernelspec": {
   "display_name": "Python 3",
   "language": "python",
   "name": "python3"
  },
  "language_info": {
   "codemirror_mode": {
    "name": "ipython",
    "version": 3
   },
   "file_extension": ".py",
   "mimetype": "text/x-python",
   "name": "python",
   "nbconvert_exporter": "python",
   "pygments_lexer": "ipython3",
   "version": "3.4.8"
  }
 },
 "nbformat": 4,
 "nbformat_minor": 2
}
